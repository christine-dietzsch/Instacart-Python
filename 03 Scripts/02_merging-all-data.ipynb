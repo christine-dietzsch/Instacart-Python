{
 "cells": [
  {
   "cell_type": "markdown",
   "id": "188768e9",
   "metadata": {},
   "source": [
    "# Merging all data sets"
   ]
  },
  {
   "cell_type": "markdown",
   "id": "2ad13b51",
   "metadata": {},
   "source": [
    "#### this notebook merges all wrangled data sets: orders, prior, products and customers.\n",
    "#### the departments data are not essential, they will be used as a data dictionary in the analysis."
   ]
  },
  {
   "cell_type": "markdown",
   "id": "955ecfa5",
   "metadata": {},
   "source": [
    "## Importing libraries and data"
   ]
  },
  {
   "cell_type": "code",
   "execution_count": 1,
   "id": "c0c3e8b9",
   "metadata": {},
   "outputs": [],
   "source": [
    "#importing the libraries\n",
    "\n",
    "import pandas as pd\n",
    "import numpy as np\n",
    "import os"
   ]
  },
  {
   "cell_type": "code",
   "execution_count": 2,
   "id": "299659a2",
   "metadata": {},
   "outputs": [],
   "source": [
    "#importing datasets:\n",
    "path = r'C:\\Users\\chris\\Documents\\Instacart Basket Analysis'\n",
    "ords = pd.read_pickle(os.path.join(path,'02 Data', 'Prepared Data', 'orders_wrangled.pkl'))\n",
    "prods = pd.read_pickle(os.path.join(path,'02 Data', 'Prepared Data', 'products_wrangled.pkl'))\n",
    "prior = pd.read_pickle(os.path.join(path,'02 Data', 'Prepared Data', 'prior_wrangled.pkl'))\n",
    "cust = pd.read_pickle(os.path.join(path,'02 Data', 'Prepared Data', 'customers_wrangled.pkl'))"
   ]
  },
  {
   "cell_type": "markdown",
   "id": "7fdd6973",
   "metadata": {},
   "source": [
    "### Planning the merges"
   ]
  },
  {
   "cell_type": "code",
   "execution_count": 3,
   "id": "7874035f",
   "metadata": {},
   "outputs": [
    {
     "data": {
      "text/plain": [
       "Index(['order_id', 'user_id', 'order_number', 'order_day_of_week',\n",
       "       'order_hour_of_day', 'days_since_last_order'],\n",
       "      dtype='object')"
      ]
     },
     "execution_count": 3,
     "metadata": {},
     "output_type": "execute_result"
    }
   ],
   "source": [
    "#finding KEYs for merge: ords\n",
    "ords.columns"
   ]
  },
  {
   "cell_type": "code",
   "execution_count": 4,
   "id": "2020811c",
   "metadata": {},
   "outputs": [
    {
     "data": {
      "text/plain": [
       "Index(['product_id', 'product_name', 'aisle_id', 'department_id', 'prices'], dtype='object')"
      ]
     },
     "execution_count": 4,
     "metadata": {},
     "output_type": "execute_result"
    }
   ],
   "source": [
    "#finding KEYs for merge: prods\n",
    "prods.columns"
   ]
  },
  {
   "cell_type": "code",
   "execution_count": 5,
   "id": "4ed9057e",
   "metadata": {},
   "outputs": [
    {
     "data": {
      "text/plain": [
       "Index(['order_id', 'product_id', 'add_to_cart_order', 'reordered'], dtype='object')"
      ]
     },
     "execution_count": 5,
     "metadata": {},
     "output_type": "execute_result"
    }
   ],
   "source": [
    "#finding KEYs for merge: prior\n",
    "prior.columns"
   ]
  },
  {
   "cell_type": "code",
   "execution_count": 6,
   "id": "514ee453",
   "metadata": {},
   "outputs": [
    {
     "data": {
      "text/plain": [
       "Index(['user_id', 'Gender', 'STATE', 'Age', 'date_joined', 'n_dependants',\n",
       "       'fam_status', 'income'],\n",
       "      dtype='object')"
      ]
     },
     "execution_count": 6,
     "metadata": {},
     "output_type": "execute_result"
    }
   ],
   "source": [
    "#finding KEYs for merge: cust\n",
    "cust.columns"
   ]
  },
  {
   "cell_type": "markdown",
   "id": "2317eac2",
   "metadata": {},
   "source": [
    "##### First merge has to be ords with prior (Key = 'order_id') > creating the matching Key with the prods (Key = 'product_id'). Finally we will add the customers (Key = 'user_id')."
   ]
  },
  {
   "cell_type": "markdown",
   "id": "47e9e84d",
   "metadata": {},
   "source": [
    "### 1) Merging orders with prior >> new dataframe: orders_products_combined"
   ]
  },
  {
   "cell_type": "markdown",
   "id": "f78a0bc0",
   "metadata": {},
   "source": [
    "#### 1.a) Performing the standard merge, which is an INNER JOIN:"
   ]
  },
  {
   "cell_type": "code",
   "execution_count": 7,
   "id": "02351834",
   "metadata": {},
   "outputs": [
    {
     "data": {
      "text/plain": [
       "(3421083, 6)"
      ]
     },
     "execution_count": 7,
     "metadata": {},
     "output_type": "execute_result"
    }
   ],
   "source": [
    "#pre-merge: shape of ords:\n",
    "ords.shape"
   ]
  },
  {
   "cell_type": "code",
   "execution_count": 8,
   "id": "1186f582",
   "metadata": {},
   "outputs": [
    {
     "data": {
      "text/plain": [
       "(32434489, 4)"
      ]
     },
     "execution_count": 8,
     "metadata": {},
     "output_type": "execute_result"
    }
   ],
   "source": [
    "#pre-merge: shape of prior:\n",
    "prior.shape"
   ]
  },
  {
   "cell_type": "code",
   "execution_count": 9,
   "id": "d9246a7f",
   "metadata": {},
   "outputs": [],
   "source": [
    "#merging on: order_id, INNER JOIN\n",
    "orders_products_combined = ords.merge(prior, on = 'order_id', indicator = True)"
   ]
  },
  {
   "cell_type": "code",
   "execution_count": 10,
   "id": "4efc609a",
   "metadata": {},
   "outputs": [
    {
     "data": {
      "text/html": [
       "<div>\n",
       "<style scoped>\n",
       "    .dataframe tbody tr th:only-of-type {\n",
       "        vertical-align: middle;\n",
       "    }\n",
       "\n",
       "    .dataframe tbody tr th {\n",
       "        vertical-align: top;\n",
       "    }\n",
       "\n",
       "    .dataframe thead th {\n",
       "        text-align: right;\n",
       "    }\n",
       "</style>\n",
       "<table border=\"1\" class=\"dataframe\">\n",
       "  <thead>\n",
       "    <tr style=\"text-align: right;\">\n",
       "      <th></th>\n",
       "      <th>order_id</th>\n",
       "      <th>user_id</th>\n",
       "      <th>order_number</th>\n",
       "      <th>order_day_of_week</th>\n",
       "      <th>order_hour_of_day</th>\n",
       "      <th>days_since_last_order</th>\n",
       "      <th>product_id</th>\n",
       "      <th>add_to_cart_order</th>\n",
       "      <th>reordered</th>\n",
       "      <th>_merge</th>\n",
       "    </tr>\n",
       "  </thead>\n",
       "  <tbody>\n",
       "    <tr>\n",
       "      <th>0</th>\n",
       "      <td>2539329</td>\n",
       "      <td>1</td>\n",
       "      <td>1</td>\n",
       "      <td>2</td>\n",
       "      <td>8</td>\n",
       "      <td>NaN</td>\n",
       "      <td>196</td>\n",
       "      <td>1</td>\n",
       "      <td>0</td>\n",
       "      <td>both</td>\n",
       "    </tr>\n",
       "    <tr>\n",
       "      <th>1</th>\n",
       "      <td>2539329</td>\n",
       "      <td>1</td>\n",
       "      <td>1</td>\n",
       "      <td>2</td>\n",
       "      <td>8</td>\n",
       "      <td>NaN</td>\n",
       "      <td>14084</td>\n",
       "      <td>2</td>\n",
       "      <td>0</td>\n",
       "      <td>both</td>\n",
       "    </tr>\n",
       "    <tr>\n",
       "      <th>2</th>\n",
       "      <td>2539329</td>\n",
       "      <td>1</td>\n",
       "      <td>1</td>\n",
       "      <td>2</td>\n",
       "      <td>8</td>\n",
       "      <td>NaN</td>\n",
       "      <td>12427</td>\n",
       "      <td>3</td>\n",
       "      <td>0</td>\n",
       "      <td>both</td>\n",
       "    </tr>\n",
       "    <tr>\n",
       "      <th>3</th>\n",
       "      <td>2539329</td>\n",
       "      <td>1</td>\n",
       "      <td>1</td>\n",
       "      <td>2</td>\n",
       "      <td>8</td>\n",
       "      <td>NaN</td>\n",
       "      <td>26088</td>\n",
       "      <td>4</td>\n",
       "      <td>0</td>\n",
       "      <td>both</td>\n",
       "    </tr>\n",
       "    <tr>\n",
       "      <th>4</th>\n",
       "      <td>2539329</td>\n",
       "      <td>1</td>\n",
       "      <td>1</td>\n",
       "      <td>2</td>\n",
       "      <td>8</td>\n",
       "      <td>NaN</td>\n",
       "      <td>26405</td>\n",
       "      <td>5</td>\n",
       "      <td>0</td>\n",
       "      <td>both</td>\n",
       "    </tr>\n",
       "    <tr>\n",
       "      <th>...</th>\n",
       "      <td>...</td>\n",
       "      <td>...</td>\n",
       "      <td>...</td>\n",
       "      <td>...</td>\n",
       "      <td>...</td>\n",
       "      <td>...</td>\n",
       "      <td>...</td>\n",
       "      <td>...</td>\n",
       "      <td>...</td>\n",
       "      <td>...</td>\n",
       "    </tr>\n",
       "    <tr>\n",
       "      <th>32434484</th>\n",
       "      <td>2977660</td>\n",
       "      <td>206209</td>\n",
       "      <td>13</td>\n",
       "      <td>1</td>\n",
       "      <td>12</td>\n",
       "      <td>7.0</td>\n",
       "      <td>14197</td>\n",
       "      <td>5</td>\n",
       "      <td>1</td>\n",
       "      <td>both</td>\n",
       "    </tr>\n",
       "    <tr>\n",
       "      <th>32434485</th>\n",
       "      <td>2977660</td>\n",
       "      <td>206209</td>\n",
       "      <td>13</td>\n",
       "      <td>1</td>\n",
       "      <td>12</td>\n",
       "      <td>7.0</td>\n",
       "      <td>38730</td>\n",
       "      <td>6</td>\n",
       "      <td>0</td>\n",
       "      <td>both</td>\n",
       "    </tr>\n",
       "    <tr>\n",
       "      <th>32434486</th>\n",
       "      <td>2977660</td>\n",
       "      <td>206209</td>\n",
       "      <td>13</td>\n",
       "      <td>1</td>\n",
       "      <td>12</td>\n",
       "      <td>7.0</td>\n",
       "      <td>31477</td>\n",
       "      <td>7</td>\n",
       "      <td>0</td>\n",
       "      <td>both</td>\n",
       "    </tr>\n",
       "    <tr>\n",
       "      <th>32434487</th>\n",
       "      <td>2977660</td>\n",
       "      <td>206209</td>\n",
       "      <td>13</td>\n",
       "      <td>1</td>\n",
       "      <td>12</td>\n",
       "      <td>7.0</td>\n",
       "      <td>6567</td>\n",
       "      <td>8</td>\n",
       "      <td>0</td>\n",
       "      <td>both</td>\n",
       "    </tr>\n",
       "    <tr>\n",
       "      <th>32434488</th>\n",
       "      <td>2977660</td>\n",
       "      <td>206209</td>\n",
       "      <td>13</td>\n",
       "      <td>1</td>\n",
       "      <td>12</td>\n",
       "      <td>7.0</td>\n",
       "      <td>22920</td>\n",
       "      <td>9</td>\n",
       "      <td>0</td>\n",
       "      <td>both</td>\n",
       "    </tr>\n",
       "  </tbody>\n",
       "</table>\n",
       "<p>32434489 rows × 10 columns</p>\n",
       "</div>"
      ],
      "text/plain": [
       "         order_id user_id  order_number  order_day_of_week  order_hour_of_day  \\\n",
       "0         2539329       1             1                  2                  8   \n",
       "1         2539329       1             1                  2                  8   \n",
       "2         2539329       1             1                  2                  8   \n",
       "3         2539329       1             1                  2                  8   \n",
       "4         2539329       1             1                  2                  8   \n",
       "...           ...     ...           ...                ...                ...   \n",
       "32434484  2977660  206209            13                  1                 12   \n",
       "32434485  2977660  206209            13                  1                 12   \n",
       "32434486  2977660  206209            13                  1                 12   \n",
       "32434487  2977660  206209            13                  1                 12   \n",
       "32434488  2977660  206209            13                  1                 12   \n",
       "\n",
       "          days_since_last_order product_id  add_to_cart_order  reordered  \\\n",
       "0                           NaN        196                  1          0   \n",
       "1                           NaN      14084                  2          0   \n",
       "2                           NaN      12427                  3          0   \n",
       "3                           NaN      26088                  4          0   \n",
       "4                           NaN      26405                  5          0   \n",
       "...                         ...        ...                ...        ...   \n",
       "32434484                    7.0      14197                  5          1   \n",
       "32434485                    7.0      38730                  6          0   \n",
       "32434486                    7.0      31477                  7          0   \n",
       "32434487                    7.0       6567                  8          0   \n",
       "32434488                    7.0      22920                  9          0   \n",
       "\n",
       "         _merge  \n",
       "0          both  \n",
       "1          both  \n",
       "2          both  \n",
       "3          both  \n",
       "4          both  \n",
       "...         ...  \n",
       "32434484   both  \n",
       "32434485   both  \n",
       "32434486   both  \n",
       "32434487   both  \n",
       "32434488   both  \n",
       "\n",
       "[32434489 rows x 10 columns]"
      ]
     },
     "execution_count": 10,
     "metadata": {},
     "output_type": "execute_result"
    }
   ],
   "source": [
    "#calling the merged dataframe\n",
    "orders_products_combined"
   ]
  },
  {
   "cell_type": "code",
   "execution_count": 11,
   "id": "4e42dc29",
   "metadata": {},
   "outputs": [
    {
     "data": {
      "text/plain": [
       "(32434489, 10)"
      ]
     },
     "execution_count": 11,
     "metadata": {},
     "output_type": "execute_result"
    }
   ],
   "source": [
    "# after merge check: size of merged dataframe:\n",
    "orders_products_combined.shape"
   ]
  },
  {
   "cell_type": "code",
   "execution_count": 12,
   "id": "f38fb6d5",
   "metadata": {},
   "outputs": [
    {
     "data": {
      "text/plain": [
       "both          32434489\n",
       "left_only            0\n",
       "right_only           0\n",
       "Name: _merge, dtype: int64"
      ]
     },
     "execution_count": 12,
     "metadata": {},
     "output_type": "execute_result"
    }
   ],
   "source": [
    "# checking the merge flag:\n",
    "orders_products_combined['_merge'].value_counts()"
   ]
  },
  {
   "cell_type": "markdown",
   "id": "f3221b5c",
   "metadata": {},
   "source": [
    "#### 1.b) Checking results with the contrary merge, performing an OUTER JOIN:"
   ]
  },
  {
   "cell_type": "code",
   "execution_count": 13,
   "id": "3f9dfe5a",
   "metadata": {},
   "outputs": [],
   "source": [
    "#merging on: order_id, OUTER JOIN\n",
    "orders_products_combined_outer = ords.merge(prior, on = 'order_id', indicator = True, how = 'outer')"
   ]
  },
  {
   "cell_type": "code",
   "execution_count": 14,
   "id": "88a4671c",
   "metadata": {},
   "outputs": [
    {
     "data": {
      "text/plain": [
       "both          32434489\n",
       "left_only       206209\n",
       "right_only           0\n",
       "Name: _merge, dtype: int64"
      ]
     },
     "execution_count": 14,
     "metadata": {},
     "output_type": "execute_result"
    }
   ],
   "source": [
    "# checking the merge flag:\n",
    "orders_products_combined_outer['_merge'].value_counts()"
   ]
  },
  {
   "cell_type": "markdown",
   "id": "34c17a59",
   "metadata": {},
   "source": [
    "##### The OUTER JOIN shows, that there are more than 200k rows without a match. Reasons for this need to be checked in the next step."
   ]
  },
  {
   "cell_type": "code",
   "execution_count": 15,
   "id": "a627c32e",
   "metadata": {},
   "outputs": [],
   "source": [
    "# filter all not merged rows:\n",
    "unmerged_data = orders_products_combined_outer[orders_products_combined_outer['_merge'] != 'both']"
   ]
  },
  {
   "cell_type": "code",
   "execution_count": 16,
   "id": "d90e1a5e",
   "metadata": {},
   "outputs": [
    {
     "data": {
      "text/html": [
       "<div>\n",
       "<style scoped>\n",
       "    .dataframe tbody tr th:only-of-type {\n",
       "        vertical-align: middle;\n",
       "    }\n",
       "\n",
       "    .dataframe tbody tr th {\n",
       "        vertical-align: top;\n",
       "    }\n",
       "\n",
       "    .dataframe thead th {\n",
       "        text-align: right;\n",
       "    }\n",
       "</style>\n",
       "<table border=\"1\" class=\"dataframe\">\n",
       "  <thead>\n",
       "    <tr style=\"text-align: right;\">\n",
       "      <th></th>\n",
       "      <th>order_id</th>\n",
       "      <th>user_id</th>\n",
       "      <th>order_number</th>\n",
       "      <th>order_day_of_week</th>\n",
       "      <th>order_hour_of_day</th>\n",
       "      <th>days_since_last_order</th>\n",
       "      <th>product_id</th>\n",
       "      <th>add_to_cart_order</th>\n",
       "      <th>reordered</th>\n",
       "      <th>_merge</th>\n",
       "    </tr>\n",
       "  </thead>\n",
       "  <tbody>\n",
       "    <tr>\n",
       "      <th>59</th>\n",
       "      <td>1187899</td>\n",
       "      <td>1</td>\n",
       "      <td>11</td>\n",
       "      <td>4</td>\n",
       "      <td>8</td>\n",
       "      <td>14.0</td>\n",
       "      <td>NaN</td>\n",
       "      <td>NaN</td>\n",
       "      <td>NaN</td>\n",
       "      <td>left_only</td>\n",
       "    </tr>\n",
       "    <tr>\n",
       "      <th>255</th>\n",
       "      <td>1492625</td>\n",
       "      <td>2</td>\n",
       "      <td>15</td>\n",
       "      <td>1</td>\n",
       "      <td>11</td>\n",
       "      <td>30.0</td>\n",
       "      <td>NaN</td>\n",
       "      <td>NaN</td>\n",
       "      <td>NaN</td>\n",
       "      <td>left_only</td>\n",
       "    </tr>\n",
       "    <tr>\n",
       "      <th>344</th>\n",
       "      <td>2774568</td>\n",
       "      <td>3</td>\n",
       "      <td>13</td>\n",
       "      <td>5</td>\n",
       "      <td>15</td>\n",
       "      <td>11.0</td>\n",
       "      <td>NaN</td>\n",
       "      <td>NaN</td>\n",
       "      <td>NaN</td>\n",
       "      <td>left_only</td>\n",
       "    </tr>\n",
       "    <tr>\n",
       "      <th>363</th>\n",
       "      <td>329954</td>\n",
       "      <td>4</td>\n",
       "      <td>6</td>\n",
       "      <td>3</td>\n",
       "      <td>12</td>\n",
       "      <td>30.0</td>\n",
       "      <td>NaN</td>\n",
       "      <td>NaN</td>\n",
       "      <td>NaN</td>\n",
       "      <td>left_only</td>\n",
       "    </tr>\n",
       "    <tr>\n",
       "      <th>401</th>\n",
       "      <td>2196797</td>\n",
       "      <td>5</td>\n",
       "      <td>5</td>\n",
       "      <td>0</td>\n",
       "      <td>11</td>\n",
       "      <td>6.0</td>\n",
       "      <td>NaN</td>\n",
       "      <td>NaN</td>\n",
       "      <td>NaN</td>\n",
       "      <td>left_only</td>\n",
       "    </tr>\n",
       "    <tr>\n",
       "      <th>...</th>\n",
       "      <td>...</td>\n",
       "      <td>...</td>\n",
       "      <td>...</td>\n",
       "      <td>...</td>\n",
       "      <td>...</td>\n",
       "      <td>...</td>\n",
       "      <td>...</td>\n",
       "      <td>...</td>\n",
       "      <td>...</td>\n",
       "      <td>...</td>\n",
       "    </tr>\n",
       "    <tr>\n",
       "      <th>32639379</th>\n",
       "      <td>1716008</td>\n",
       "      <td>206205</td>\n",
       "      <td>4</td>\n",
       "      <td>1</td>\n",
       "      <td>16</td>\n",
       "      <td>10.0</td>\n",
       "      <td>NaN</td>\n",
       "      <td>NaN</td>\n",
       "      <td>NaN</td>\n",
       "      <td>left_only</td>\n",
       "    </tr>\n",
       "    <tr>\n",
       "      <th>32639665</th>\n",
       "      <td>1043943</td>\n",
       "      <td>206206</td>\n",
       "      <td>68</td>\n",
       "      <td>0</td>\n",
       "      <td>20</td>\n",
       "      <td>0.0</td>\n",
       "      <td>NaN</td>\n",
       "      <td>NaN</td>\n",
       "      <td>NaN</td>\n",
       "      <td>left_only</td>\n",
       "    </tr>\n",
       "    <tr>\n",
       "      <th>32639889</th>\n",
       "      <td>2821651</td>\n",
       "      <td>206207</td>\n",
       "      <td>17</td>\n",
       "      <td>2</td>\n",
       "      <td>13</td>\n",
       "      <td>14.0</td>\n",
       "      <td>NaN</td>\n",
       "      <td>NaN</td>\n",
       "      <td>NaN</td>\n",
       "      <td>left_only</td>\n",
       "    </tr>\n",
       "    <tr>\n",
       "      <th>32640567</th>\n",
       "      <td>803273</td>\n",
       "      <td>206208</td>\n",
       "      <td>50</td>\n",
       "      <td>5</td>\n",
       "      <td>11</td>\n",
       "      <td>4.0</td>\n",
       "      <td>NaN</td>\n",
       "      <td>NaN</td>\n",
       "      <td>NaN</td>\n",
       "      <td>left_only</td>\n",
       "    </tr>\n",
       "    <tr>\n",
       "      <th>32640697</th>\n",
       "      <td>272231</td>\n",
       "      <td>206209</td>\n",
       "      <td>14</td>\n",
       "      <td>6</td>\n",
       "      <td>14</td>\n",
       "      <td>30.0</td>\n",
       "      <td>NaN</td>\n",
       "      <td>NaN</td>\n",
       "      <td>NaN</td>\n",
       "      <td>left_only</td>\n",
       "    </tr>\n",
       "  </tbody>\n",
       "</table>\n",
       "<p>206209 rows × 10 columns</p>\n",
       "</div>"
      ],
      "text/plain": [
       "         order_id user_id  order_number  order_day_of_week  order_hour_of_day  \\\n",
       "59        1187899       1            11                  4                  8   \n",
       "255       1492625       2            15                  1                 11   \n",
       "344       2774568       3            13                  5                 15   \n",
       "363        329954       4             6                  3                 12   \n",
       "401       2196797       5             5                  0                 11   \n",
       "...           ...     ...           ...                ...                ...   \n",
       "32639379  1716008  206205             4                  1                 16   \n",
       "32639665  1043943  206206            68                  0                 20   \n",
       "32639889  2821651  206207            17                  2                 13   \n",
       "32640567   803273  206208            50                  5                 11   \n",
       "32640697   272231  206209            14                  6                 14   \n",
       "\n",
       "          days_since_last_order product_id  add_to_cart_order  reordered  \\\n",
       "59                         14.0        NaN                NaN        NaN   \n",
       "255                        30.0        NaN                NaN        NaN   \n",
       "344                        11.0        NaN                NaN        NaN   \n",
       "363                        30.0        NaN                NaN        NaN   \n",
       "401                         6.0        NaN                NaN        NaN   \n",
       "...                         ...        ...                ...        ...   \n",
       "32639379                   10.0        NaN                NaN        NaN   \n",
       "32639665                    0.0        NaN                NaN        NaN   \n",
       "32639889                   14.0        NaN                NaN        NaN   \n",
       "32640567                    4.0        NaN                NaN        NaN   \n",
       "32640697                   30.0        NaN                NaN        NaN   \n",
       "\n",
       "             _merge  \n",
       "59        left_only  \n",
       "255       left_only  \n",
       "344       left_only  \n",
       "363       left_only  \n",
       "401       left_only  \n",
       "...             ...  \n",
       "32639379  left_only  \n",
       "32639665  left_only  \n",
       "32639889  left_only  \n",
       "32640567  left_only  \n",
       "32640697  left_only  \n",
       "\n",
       "[206209 rows x 10 columns]"
      ]
     },
     "execution_count": 16,
     "metadata": {},
     "output_type": "execute_result"
    }
   ],
   "source": [
    "# calling the unmerged_data:\n",
    "unmerged_data"
   ]
  },
  {
   "cell_type": "code",
   "execution_count": 17,
   "id": "4048a7ac",
   "metadata": {},
   "outputs": [],
   "source": [
    "# apparently th product_id is missing. Subsetting to be sure:\n",
    "subset_by_product_id_outer = unmerged_data.loc[:, 'product_id']"
   ]
  },
  {
   "cell_type": "code",
   "execution_count": 18,
   "id": "cde834ac",
   "metadata": {},
   "outputs": [
    {
     "data": {
      "text/plain": [
       "(206209,)"
      ]
     },
     "execution_count": 18,
     "metadata": {},
     "output_type": "execute_result"
    }
   ],
   "source": [
    "# if this is the reason, the number of rows equals the number of unmerged data:\n",
    "subset_by_product_id_outer.shape"
   ]
  },
  {
   "cell_type": "code",
   "execution_count": 19,
   "id": "f878f308",
   "metadata": {},
   "outputs": [],
   "source": [
    "# comparative subset in the inner join merge:\n",
    "subset_by_product_id_inner = orders_products_combined.loc[orders_products_combined['product_id'].isna(), 'product_id']"
   ]
  },
  {
   "cell_type": "code",
   "execution_count": 20,
   "id": "1b1427bf",
   "metadata": {},
   "outputs": [
    {
     "data": {
      "text/plain": [
       "(0,)"
      ]
     },
     "execution_count": 20,
     "metadata": {},
     "output_type": "execute_result"
    }
   ],
   "source": [
    "subset_by_product_id_inner.shape"
   ]
  },
  {
   "cell_type": "markdown",
   "id": "b00e11de",
   "metadata": {},
   "source": [
    "##### In the orders-dataframe were over 200k rows without a match in the prior_orders-dataframe. In the unmerging rows, essential data is missing, above all the product_id, which will be the Key for the merge with the products dataframe. Therefore, we will continue with the inner joined dataframe."
   ]
  },
  {
   "cell_type": "markdown",
   "id": "4a43c05e",
   "metadata": {},
   "source": [
    "### 2) Merge 'orders_products_combined' with 'prods' >> new dataframe: orders_products_merged"
   ]
  },
  {
   "cell_type": "markdown",
   "id": "95382d9f",
   "metadata": {},
   "source": [
    "#### 2.a) Performing the standard merge, which is an INNER JOIN:"
   ]
  },
  {
   "cell_type": "code",
   "execution_count": 21,
   "id": "dae1b958",
   "metadata": {},
   "outputs": [
    {
     "data": {
      "text/plain": [
       "(32434489, 10)"
      ]
     },
     "execution_count": 21,
     "metadata": {},
     "output_type": "execute_result"
    }
   ],
   "source": [
    "#pre-merge: shape of orders_products_combined:\n",
    "orders_products_combined.shape"
   ]
  },
  {
   "cell_type": "code",
   "execution_count": 22,
   "id": "fe64cbc8",
   "metadata": {},
   "outputs": [
    {
     "data": {
      "text/plain": [
       "(49670, 5)"
      ]
     },
     "execution_count": 22,
     "metadata": {},
     "output_type": "execute_result"
    }
   ],
   "source": [
    "#pre-merge: shape of prods:\n",
    "prods.shape"
   ]
  },
  {
   "cell_type": "code",
   "execution_count": 23,
   "id": "f99f968f",
   "metadata": {},
   "outputs": [],
   "source": [
    "#merging on: product_id, INNER JOIN\n",
    "orders_products_merged = orders_products_combined.merge(prods, on = 'product_id')"
   ]
  },
  {
   "cell_type": "code",
   "execution_count": 24,
   "id": "896b88ac",
   "metadata": {},
   "outputs": [
    {
     "data": {
      "text/html": [
       "<div>\n",
       "<style scoped>\n",
       "    .dataframe tbody tr th:only-of-type {\n",
       "        vertical-align: middle;\n",
       "    }\n",
       "\n",
       "    .dataframe tbody tr th {\n",
       "        vertical-align: top;\n",
       "    }\n",
       "\n",
       "    .dataframe thead th {\n",
       "        text-align: right;\n",
       "    }\n",
       "</style>\n",
       "<table border=\"1\" class=\"dataframe\">\n",
       "  <thead>\n",
       "    <tr style=\"text-align: right;\">\n",
       "      <th></th>\n",
       "      <th>order_id</th>\n",
       "      <th>user_id</th>\n",
       "      <th>order_number</th>\n",
       "      <th>order_day_of_week</th>\n",
       "      <th>order_hour_of_day</th>\n",
       "      <th>days_since_last_order</th>\n",
       "      <th>product_id</th>\n",
       "      <th>add_to_cart_order</th>\n",
       "      <th>reordered</th>\n",
       "      <th>_merge</th>\n",
       "      <th>product_name</th>\n",
       "      <th>aisle_id</th>\n",
       "      <th>department_id</th>\n",
       "      <th>prices</th>\n",
       "    </tr>\n",
       "  </thead>\n",
       "  <tbody>\n",
       "    <tr>\n",
       "      <th>0</th>\n",
       "      <td>2539329</td>\n",
       "      <td>1</td>\n",
       "      <td>1</td>\n",
       "      <td>2</td>\n",
       "      <td>8</td>\n",
       "      <td>NaN</td>\n",
       "      <td>196</td>\n",
       "      <td>1</td>\n",
       "      <td>0</td>\n",
       "      <td>both</td>\n",
       "      <td>Soda</td>\n",
       "      <td>77</td>\n",
       "      <td>7</td>\n",
       "      <td>9.0</td>\n",
       "    </tr>\n",
       "    <tr>\n",
       "      <th>1</th>\n",
       "      <td>2398795</td>\n",
       "      <td>1</td>\n",
       "      <td>2</td>\n",
       "      <td>3</td>\n",
       "      <td>7</td>\n",
       "      <td>15.0</td>\n",
       "      <td>196</td>\n",
       "      <td>1</td>\n",
       "      <td>1</td>\n",
       "      <td>both</td>\n",
       "      <td>Soda</td>\n",
       "      <td>77</td>\n",
       "      <td>7</td>\n",
       "      <td>9.0</td>\n",
       "    </tr>\n",
       "    <tr>\n",
       "      <th>2</th>\n",
       "      <td>473747</td>\n",
       "      <td>1</td>\n",
       "      <td>3</td>\n",
       "      <td>3</td>\n",
       "      <td>12</td>\n",
       "      <td>21.0</td>\n",
       "      <td>196</td>\n",
       "      <td>1</td>\n",
       "      <td>1</td>\n",
       "      <td>both</td>\n",
       "      <td>Soda</td>\n",
       "      <td>77</td>\n",
       "      <td>7</td>\n",
       "      <td>9.0</td>\n",
       "    </tr>\n",
       "    <tr>\n",
       "      <th>3</th>\n",
       "      <td>2254736</td>\n",
       "      <td>1</td>\n",
       "      <td>4</td>\n",
       "      <td>4</td>\n",
       "      <td>7</td>\n",
       "      <td>29.0</td>\n",
       "      <td>196</td>\n",
       "      <td>1</td>\n",
       "      <td>1</td>\n",
       "      <td>both</td>\n",
       "      <td>Soda</td>\n",
       "      <td>77</td>\n",
       "      <td>7</td>\n",
       "      <td>9.0</td>\n",
       "    </tr>\n",
       "    <tr>\n",
       "      <th>4</th>\n",
       "      <td>431534</td>\n",
       "      <td>1</td>\n",
       "      <td>5</td>\n",
       "      <td>4</td>\n",
       "      <td>15</td>\n",
       "      <td>28.0</td>\n",
       "      <td>196</td>\n",
       "      <td>1</td>\n",
       "      <td>1</td>\n",
       "      <td>both</td>\n",
       "      <td>Soda</td>\n",
       "      <td>77</td>\n",
       "      <td>7</td>\n",
       "      <td>9.0</td>\n",
       "    </tr>\n",
       "    <tr>\n",
       "      <th>...</th>\n",
       "      <td>...</td>\n",
       "      <td>...</td>\n",
       "      <td>...</td>\n",
       "      <td>...</td>\n",
       "      <td>...</td>\n",
       "      <td>...</td>\n",
       "      <td>...</td>\n",
       "      <td>...</td>\n",
       "      <td>...</td>\n",
       "      <td>...</td>\n",
       "      <td>...</td>\n",
       "      <td>...</td>\n",
       "      <td>...</td>\n",
       "      <td>...</td>\n",
       "    </tr>\n",
       "    <tr>\n",
       "      <th>32399727</th>\n",
       "      <td>1320836</td>\n",
       "      <td>202557</td>\n",
       "      <td>17</td>\n",
       "      <td>2</td>\n",
       "      <td>15</td>\n",
       "      <td>1.0</td>\n",
       "      <td>43553</td>\n",
       "      <td>2</td>\n",
       "      <td>1</td>\n",
       "      <td>both</td>\n",
       "      <td>Orange Energy Shots</td>\n",
       "      <td>64</td>\n",
       "      <td>7</td>\n",
       "      <td>3.7</td>\n",
       "    </tr>\n",
       "    <tr>\n",
       "      <th>32399728</th>\n",
       "      <td>31526</td>\n",
       "      <td>202557</td>\n",
       "      <td>18</td>\n",
       "      <td>5</td>\n",
       "      <td>11</td>\n",
       "      <td>3.0</td>\n",
       "      <td>43553</td>\n",
       "      <td>2</td>\n",
       "      <td>1</td>\n",
       "      <td>both</td>\n",
       "      <td>Orange Energy Shots</td>\n",
       "      <td>64</td>\n",
       "      <td>7</td>\n",
       "      <td>3.7</td>\n",
       "    </tr>\n",
       "    <tr>\n",
       "      <th>32399729</th>\n",
       "      <td>758936</td>\n",
       "      <td>203436</td>\n",
       "      <td>1</td>\n",
       "      <td>2</td>\n",
       "      <td>7</td>\n",
       "      <td>NaN</td>\n",
       "      <td>42338</td>\n",
       "      <td>4</td>\n",
       "      <td>0</td>\n",
       "      <td>both</td>\n",
       "      <td>Zucchini Chips, Pesto</td>\n",
       "      <td>50</td>\n",
       "      <td>19</td>\n",
       "      <td>6.9</td>\n",
       "    </tr>\n",
       "    <tr>\n",
       "      <th>32399730</th>\n",
       "      <td>2745165</td>\n",
       "      <td>203436</td>\n",
       "      <td>2</td>\n",
       "      <td>3</td>\n",
       "      <td>5</td>\n",
       "      <td>15.0</td>\n",
       "      <td>42338</td>\n",
       "      <td>16</td>\n",
       "      <td>1</td>\n",
       "      <td>both</td>\n",
       "      <td>Zucchini Chips, Pesto</td>\n",
       "      <td>50</td>\n",
       "      <td>19</td>\n",
       "      <td>6.9</td>\n",
       "    </tr>\n",
       "    <tr>\n",
       "      <th>32399731</th>\n",
       "      <td>3093936</td>\n",
       "      <td>205420</td>\n",
       "      <td>1</td>\n",
       "      <td>4</td>\n",
       "      <td>14</td>\n",
       "      <td>NaN</td>\n",
       "      <td>28818</td>\n",
       "      <td>8</td>\n",
       "      <td>0</td>\n",
       "      <td>both</td>\n",
       "      <td>Hot Oatmeal Multigrain Raisin</td>\n",
       "      <td>130</td>\n",
       "      <td>14</td>\n",
       "      <td>10.3</td>\n",
       "    </tr>\n",
       "  </tbody>\n",
       "</table>\n",
       "<p>32399732 rows × 14 columns</p>\n",
       "</div>"
      ],
      "text/plain": [
       "         order_id user_id  order_number  order_day_of_week  order_hour_of_day  \\\n",
       "0         2539329       1             1                  2                  8   \n",
       "1         2398795       1             2                  3                  7   \n",
       "2          473747       1             3                  3                 12   \n",
       "3         2254736       1             4                  4                  7   \n",
       "4          431534       1             5                  4                 15   \n",
       "...           ...     ...           ...                ...                ...   \n",
       "32399727  1320836  202557            17                  2                 15   \n",
       "32399728    31526  202557            18                  5                 11   \n",
       "32399729   758936  203436             1                  2                  7   \n",
       "32399730  2745165  203436             2                  3                  5   \n",
       "32399731  3093936  205420             1                  4                 14   \n",
       "\n",
       "          days_since_last_order product_id  add_to_cart_order  reordered  \\\n",
       "0                           NaN        196                  1          0   \n",
       "1                          15.0        196                  1          1   \n",
       "2                          21.0        196                  1          1   \n",
       "3                          29.0        196                  1          1   \n",
       "4                          28.0        196                  1          1   \n",
       "...                         ...        ...                ...        ...   \n",
       "32399727                    1.0      43553                  2          1   \n",
       "32399728                    3.0      43553                  2          1   \n",
       "32399729                    NaN      42338                  4          0   \n",
       "32399730                   15.0      42338                 16          1   \n",
       "32399731                    NaN      28818                  8          0   \n",
       "\n",
       "         _merge                   product_name aisle_id department_id  prices  \n",
       "0          both                           Soda       77             7     9.0  \n",
       "1          both                           Soda       77             7     9.0  \n",
       "2          both                           Soda       77             7     9.0  \n",
       "3          both                           Soda       77             7     9.0  \n",
       "4          both                           Soda       77             7     9.0  \n",
       "...         ...                            ...      ...           ...     ...  \n",
       "32399727   both            Orange Energy Shots       64             7     3.7  \n",
       "32399728   both            Orange Energy Shots       64             7     3.7  \n",
       "32399729   both          Zucchini Chips, Pesto       50            19     6.9  \n",
       "32399730   both          Zucchini Chips, Pesto       50            19     6.9  \n",
       "32399731   both  Hot Oatmeal Multigrain Raisin      130            14    10.3  \n",
       "\n",
       "[32399732 rows x 14 columns]"
      ]
     },
     "execution_count": 24,
     "metadata": {},
     "output_type": "execute_result"
    }
   ],
   "source": [
    "#calling the merged df:\n",
    "orders_products_merged"
   ]
  },
  {
   "cell_type": "code",
   "execution_count": 25,
   "id": "ed7b6d5d",
   "metadata": {},
   "outputs": [
    {
     "data": {
      "text/plain": [
       "(32399732, 14)"
      ]
     },
     "execution_count": 25,
     "metadata": {},
     "output_type": "execute_result"
    }
   ],
   "source": [
    "# after merge check: size of merged dataframe:\n",
    "orders_products_merged.shape"
   ]
  },
  {
   "cell_type": "code",
   "execution_count": 26,
   "id": "450f5015",
   "metadata": {},
   "outputs": [
    {
     "data": {
      "text/plain": [
       "both          32399732\n",
       "left_only            0\n",
       "right_only           0\n",
       "Name: _merge, dtype: int64"
      ]
     },
     "execution_count": 26,
     "metadata": {},
     "output_type": "execute_result"
    }
   ],
   "source": [
    "# checking the merge flag:\n",
    "orders_products_merged['_merge'].value_counts()"
   ]
  },
  {
   "cell_type": "markdown",
   "id": "111bd48c",
   "metadata": {},
   "source": [
    "#### 2.b) Checking results with the contrary merge, performing an OUTER JOIN:"
   ]
  },
  {
   "cell_type": "code",
   "execution_count": 27,
   "id": "b46ec093",
   "metadata": {},
   "outputs": [],
   "source": [
    "#merging on: product_id, OUTER JOIN\n",
    "orders_products_merged_outer = orders_products_combined.merge(prods, on = 'product_id', how = 'outer')"
   ]
  },
  {
   "cell_type": "code",
   "execution_count": 28,
   "id": "1c2e7234",
   "metadata": {},
   "outputs": [
    {
     "data": {
      "text/plain": [
       "both          32435059\n",
       "left_only            0\n",
       "right_only           0\n",
       "Name: _merge, dtype: int64"
      ]
     },
     "execution_count": 28,
     "metadata": {},
     "output_type": "execute_result"
    }
   ],
   "source": [
    "# checking the merge flag:\n",
    "orders_products_merged_outer['_merge'].value_counts()"
   ]
  },
  {
   "cell_type": "markdown",
   "id": "9000f8be",
   "metadata": {},
   "source": [
    "##### No unmerged rows here. No further investigations required."
   ]
  },
  {
   "cell_type": "markdown",
   "id": "38817f2a",
   "metadata": {},
   "source": [
    "### 3) merging 'orders_products_merged' with 'cust' >> new dataframe: orders_products_all_merge"
   ]
  },
  {
   "cell_type": "markdown",
   "id": "a80f088a",
   "metadata": {},
   "source": [
    "#### 3.a) Performing the standard merge, which is an INNER JOIN:"
   ]
  },
  {
   "cell_type": "code",
   "execution_count": 29,
   "id": "22859b4a",
   "metadata": {},
   "outputs": [
    {
     "data": {
      "text/plain": [
       "(32399732, 14)"
      ]
     },
     "execution_count": 29,
     "metadata": {},
     "output_type": "execute_result"
    }
   ],
   "source": [
    "#pre-merge: shape of orders_products_merged:\n",
    "orders_products_merged.shape"
   ]
  },
  {
   "cell_type": "code",
   "execution_count": 30,
   "id": "157128ce",
   "metadata": {},
   "outputs": [
    {
     "data": {
      "text/plain": [
       "(206209, 8)"
      ]
     },
     "execution_count": 30,
     "metadata": {},
     "output_type": "execute_result"
    }
   ],
   "source": [
    "#pre-merge: shape of cust\n",
    "cust.shape"
   ]
  },
  {
   "cell_type": "code",
   "execution_count": 31,
   "id": "4de30ad9",
   "metadata": {},
   "outputs": [],
   "source": [
    "#merging on: user_id, INNER JOIN\n",
    "orders_products_all_merge = orders_products_merged.merge(cust, on = 'user_id')"
   ]
  },
  {
   "cell_type": "code",
   "execution_count": 32,
   "id": "76fdd715",
   "metadata": {},
   "outputs": [
    {
     "data": {
      "text/plain": [
       "(32399732, 21)"
      ]
     },
     "execution_count": 32,
     "metadata": {},
     "output_type": "execute_result"
    }
   ],
   "source": [
    "# after merge check: size of merged dataframe:\n",
    "orders_products_all_merge.shape"
   ]
  },
  {
   "cell_type": "code",
   "execution_count": 33,
   "id": "473e1845",
   "metadata": {},
   "outputs": [
    {
     "data": {
      "text/html": [
       "<div>\n",
       "<style scoped>\n",
       "    .dataframe tbody tr th:only-of-type {\n",
       "        vertical-align: middle;\n",
       "    }\n",
       "\n",
       "    .dataframe tbody tr th {\n",
       "        vertical-align: top;\n",
       "    }\n",
       "\n",
       "    .dataframe thead th {\n",
       "        text-align: right;\n",
       "    }\n",
       "</style>\n",
       "<table border=\"1\" class=\"dataframe\">\n",
       "  <thead>\n",
       "    <tr style=\"text-align: right;\">\n",
       "      <th></th>\n",
       "      <th>order_id</th>\n",
       "      <th>user_id</th>\n",
       "      <th>order_number</th>\n",
       "      <th>order_day_of_week</th>\n",
       "      <th>order_hour_of_day</th>\n",
       "      <th>days_since_last_order</th>\n",
       "      <th>product_id</th>\n",
       "      <th>add_to_cart_order</th>\n",
       "      <th>reordered</th>\n",
       "      <th>_merge</th>\n",
       "      <th>...</th>\n",
       "      <th>aisle_id</th>\n",
       "      <th>department_id</th>\n",
       "      <th>prices</th>\n",
       "      <th>Gender</th>\n",
       "      <th>STATE</th>\n",
       "      <th>Age</th>\n",
       "      <th>date_joined</th>\n",
       "      <th>n_dependants</th>\n",
       "      <th>fam_status</th>\n",
       "      <th>income</th>\n",
       "    </tr>\n",
       "  </thead>\n",
       "  <tbody>\n",
       "    <tr>\n",
       "      <th>0</th>\n",
       "      <td>2539329</td>\n",
       "      <td>1</td>\n",
       "      <td>1</td>\n",
       "      <td>2</td>\n",
       "      <td>8</td>\n",
       "      <td>NaN</td>\n",
       "      <td>196</td>\n",
       "      <td>1</td>\n",
       "      <td>0</td>\n",
       "      <td>both</td>\n",
       "      <td>...</td>\n",
       "      <td>77</td>\n",
       "      <td>7</td>\n",
       "      <td>9.0</td>\n",
       "      <td>Female</td>\n",
       "      <td>Alabama</td>\n",
       "      <td>31</td>\n",
       "      <td>2019-02-17</td>\n",
       "      <td>3</td>\n",
       "      <td>married</td>\n",
       "      <td>40423</td>\n",
       "    </tr>\n",
       "    <tr>\n",
       "      <th>1</th>\n",
       "      <td>2398795</td>\n",
       "      <td>1</td>\n",
       "      <td>2</td>\n",
       "      <td>3</td>\n",
       "      <td>7</td>\n",
       "      <td>15.0</td>\n",
       "      <td>196</td>\n",
       "      <td>1</td>\n",
       "      <td>1</td>\n",
       "      <td>both</td>\n",
       "      <td>...</td>\n",
       "      <td>77</td>\n",
       "      <td>7</td>\n",
       "      <td>9.0</td>\n",
       "      <td>Female</td>\n",
       "      <td>Alabama</td>\n",
       "      <td>31</td>\n",
       "      <td>2019-02-17</td>\n",
       "      <td>3</td>\n",
       "      <td>married</td>\n",
       "      <td>40423</td>\n",
       "    </tr>\n",
       "    <tr>\n",
       "      <th>2</th>\n",
       "      <td>473747</td>\n",
       "      <td>1</td>\n",
       "      <td>3</td>\n",
       "      <td>3</td>\n",
       "      <td>12</td>\n",
       "      <td>21.0</td>\n",
       "      <td>196</td>\n",
       "      <td>1</td>\n",
       "      <td>1</td>\n",
       "      <td>both</td>\n",
       "      <td>...</td>\n",
       "      <td>77</td>\n",
       "      <td>7</td>\n",
       "      <td>9.0</td>\n",
       "      <td>Female</td>\n",
       "      <td>Alabama</td>\n",
       "      <td>31</td>\n",
       "      <td>2019-02-17</td>\n",
       "      <td>3</td>\n",
       "      <td>married</td>\n",
       "      <td>40423</td>\n",
       "    </tr>\n",
       "    <tr>\n",
       "      <th>3</th>\n",
       "      <td>2254736</td>\n",
       "      <td>1</td>\n",
       "      <td>4</td>\n",
       "      <td>4</td>\n",
       "      <td>7</td>\n",
       "      <td>29.0</td>\n",
       "      <td>196</td>\n",
       "      <td>1</td>\n",
       "      <td>1</td>\n",
       "      <td>both</td>\n",
       "      <td>...</td>\n",
       "      <td>77</td>\n",
       "      <td>7</td>\n",
       "      <td>9.0</td>\n",
       "      <td>Female</td>\n",
       "      <td>Alabama</td>\n",
       "      <td>31</td>\n",
       "      <td>2019-02-17</td>\n",
       "      <td>3</td>\n",
       "      <td>married</td>\n",
       "      <td>40423</td>\n",
       "    </tr>\n",
       "    <tr>\n",
       "      <th>4</th>\n",
       "      <td>431534</td>\n",
       "      <td>1</td>\n",
       "      <td>5</td>\n",
       "      <td>4</td>\n",
       "      <td>15</td>\n",
       "      <td>28.0</td>\n",
       "      <td>196</td>\n",
       "      <td>1</td>\n",
       "      <td>1</td>\n",
       "      <td>both</td>\n",
       "      <td>...</td>\n",
       "      <td>77</td>\n",
       "      <td>7</td>\n",
       "      <td>9.0</td>\n",
       "      <td>Female</td>\n",
       "      <td>Alabama</td>\n",
       "      <td>31</td>\n",
       "      <td>2019-02-17</td>\n",
       "      <td>3</td>\n",
       "      <td>married</td>\n",
       "      <td>40423</td>\n",
       "    </tr>\n",
       "    <tr>\n",
       "      <th>...</th>\n",
       "      <td>...</td>\n",
       "      <td>...</td>\n",
       "      <td>...</td>\n",
       "      <td>...</td>\n",
       "      <td>...</td>\n",
       "      <td>...</td>\n",
       "      <td>...</td>\n",
       "      <td>...</td>\n",
       "      <td>...</td>\n",
       "      <td>...</td>\n",
       "      <td>...</td>\n",
       "      <td>...</td>\n",
       "      <td>...</td>\n",
       "      <td>...</td>\n",
       "      <td>...</td>\n",
       "      <td>...</td>\n",
       "      <td>...</td>\n",
       "      <td>...</td>\n",
       "      <td>...</td>\n",
       "      <td>...</td>\n",
       "      <td>...</td>\n",
       "    </tr>\n",
       "    <tr>\n",
       "      <th>32399727</th>\n",
       "      <td>156685</td>\n",
       "      <td>106143</td>\n",
       "      <td>26</td>\n",
       "      <td>4</td>\n",
       "      <td>23</td>\n",
       "      <td>5.0</td>\n",
       "      <td>19675</td>\n",
       "      <td>1</td>\n",
       "      <td>1</td>\n",
       "      <td>both</td>\n",
       "      <td>...</td>\n",
       "      <td>94</td>\n",
       "      <td>7</td>\n",
       "      <td>10.7</td>\n",
       "      <td>Male</td>\n",
       "      <td>Hawaii</td>\n",
       "      <td>25</td>\n",
       "      <td>2017-05-26</td>\n",
       "      <td>0</td>\n",
       "      <td>single</td>\n",
       "      <td>53755</td>\n",
       "    </tr>\n",
       "    <tr>\n",
       "      <th>32399728</th>\n",
       "      <td>484769</td>\n",
       "      <td>66343</td>\n",
       "      <td>1</td>\n",
       "      <td>6</td>\n",
       "      <td>11</td>\n",
       "      <td>NaN</td>\n",
       "      <td>47210</td>\n",
       "      <td>1</td>\n",
       "      <td>0</td>\n",
       "      <td>both</td>\n",
       "      <td>...</td>\n",
       "      <td>15</td>\n",
       "      <td>12</td>\n",
       "      <td>8.1</td>\n",
       "      <td>Female</td>\n",
       "      <td>Tennessee</td>\n",
       "      <td>22</td>\n",
       "      <td>2017-09-12</td>\n",
       "      <td>3</td>\n",
       "      <td>married</td>\n",
       "      <td>46151</td>\n",
       "    </tr>\n",
       "    <tr>\n",
       "      <th>32399729</th>\n",
       "      <td>1561557</td>\n",
       "      <td>66343</td>\n",
       "      <td>2</td>\n",
       "      <td>1</td>\n",
       "      <td>11</td>\n",
       "      <td>30.0</td>\n",
       "      <td>47210</td>\n",
       "      <td>1</td>\n",
       "      <td>1</td>\n",
       "      <td>both</td>\n",
       "      <td>...</td>\n",
       "      <td>15</td>\n",
       "      <td>12</td>\n",
       "      <td>8.1</td>\n",
       "      <td>Female</td>\n",
       "      <td>Tennessee</td>\n",
       "      <td>22</td>\n",
       "      <td>2017-09-12</td>\n",
       "      <td>3</td>\n",
       "      <td>married</td>\n",
       "      <td>46151</td>\n",
       "    </tr>\n",
       "    <tr>\n",
       "      <th>32399730</th>\n",
       "      <td>276317</td>\n",
       "      <td>66343</td>\n",
       "      <td>3</td>\n",
       "      <td>6</td>\n",
       "      <td>15</td>\n",
       "      <td>19.0</td>\n",
       "      <td>47210</td>\n",
       "      <td>1</td>\n",
       "      <td>1</td>\n",
       "      <td>both</td>\n",
       "      <td>...</td>\n",
       "      <td>15</td>\n",
       "      <td>12</td>\n",
       "      <td>8.1</td>\n",
       "      <td>Female</td>\n",
       "      <td>Tennessee</td>\n",
       "      <td>22</td>\n",
       "      <td>2017-09-12</td>\n",
       "      <td>3</td>\n",
       "      <td>married</td>\n",
       "      <td>46151</td>\n",
       "    </tr>\n",
       "    <tr>\n",
       "      <th>32399731</th>\n",
       "      <td>2922475</td>\n",
       "      <td>66343</td>\n",
       "      <td>4</td>\n",
       "      <td>1</td>\n",
       "      <td>12</td>\n",
       "      <td>30.0</td>\n",
       "      <td>47210</td>\n",
       "      <td>1</td>\n",
       "      <td>1</td>\n",
       "      <td>both</td>\n",
       "      <td>...</td>\n",
       "      <td>15</td>\n",
       "      <td>12</td>\n",
       "      <td>8.1</td>\n",
       "      <td>Female</td>\n",
       "      <td>Tennessee</td>\n",
       "      <td>22</td>\n",
       "      <td>2017-09-12</td>\n",
       "      <td>3</td>\n",
       "      <td>married</td>\n",
       "      <td>46151</td>\n",
       "    </tr>\n",
       "  </tbody>\n",
       "</table>\n",
       "<p>32399732 rows × 21 columns</p>\n",
       "</div>"
      ],
      "text/plain": [
       "         order_id user_id  order_number  order_day_of_week  order_hour_of_day  \\\n",
       "0         2539329       1             1                  2                  8   \n",
       "1         2398795       1             2                  3                  7   \n",
       "2          473747       1             3                  3                 12   \n",
       "3         2254736       1             4                  4                  7   \n",
       "4          431534       1             5                  4                 15   \n",
       "...           ...     ...           ...                ...                ...   \n",
       "32399727   156685  106143            26                  4                 23   \n",
       "32399728   484769   66343             1                  6                 11   \n",
       "32399729  1561557   66343             2                  1                 11   \n",
       "32399730   276317   66343             3                  6                 15   \n",
       "32399731  2922475   66343             4                  1                 12   \n",
       "\n",
       "          days_since_last_order product_id  add_to_cart_order  reordered  \\\n",
       "0                           NaN        196                  1          0   \n",
       "1                          15.0        196                  1          1   \n",
       "2                          21.0        196                  1          1   \n",
       "3                          29.0        196                  1          1   \n",
       "4                          28.0        196                  1          1   \n",
       "...                         ...        ...                ...        ...   \n",
       "32399727                    5.0      19675                  1          1   \n",
       "32399728                    NaN      47210                  1          0   \n",
       "32399729                   30.0      47210                  1          1   \n",
       "32399730                   19.0      47210                  1          1   \n",
       "32399731                   30.0      47210                  1          1   \n",
       "\n",
       "         _merge  ... aisle_id department_id prices  Gender      STATE Age  \\\n",
       "0          both  ...       77             7    9.0  Female    Alabama  31   \n",
       "1          both  ...       77             7    9.0  Female    Alabama  31   \n",
       "2          both  ...       77             7    9.0  Female    Alabama  31   \n",
       "3          both  ...       77             7    9.0  Female    Alabama  31   \n",
       "4          both  ...       77             7    9.0  Female    Alabama  31   \n",
       "...         ...  ...      ...           ...    ...     ...        ...  ..   \n",
       "32399727   both  ...       94             7   10.7    Male     Hawaii  25   \n",
       "32399728   both  ...       15            12    8.1  Female  Tennessee  22   \n",
       "32399729   both  ...       15            12    8.1  Female  Tennessee  22   \n",
       "32399730   both  ...       15            12    8.1  Female  Tennessee  22   \n",
       "32399731   both  ...       15            12    8.1  Female  Tennessee  22   \n",
       "\n",
       "          date_joined n_dependants  fam_status income  \n",
       "0          2019-02-17            3     married  40423  \n",
       "1          2019-02-17            3     married  40423  \n",
       "2          2019-02-17            3     married  40423  \n",
       "3          2019-02-17            3     married  40423  \n",
       "4          2019-02-17            3     married  40423  \n",
       "...               ...          ...         ...    ...  \n",
       "32399727   2017-05-26            0      single  53755  \n",
       "32399728   2017-09-12            3     married  46151  \n",
       "32399729   2017-09-12            3     married  46151  \n",
       "32399730   2017-09-12            3     married  46151  \n",
       "32399731   2017-09-12            3     married  46151  \n",
       "\n",
       "[32399732 rows x 21 columns]"
      ]
     },
     "execution_count": 33,
     "metadata": {},
     "output_type": "execute_result"
    }
   ],
   "source": [
    "orders_products_all_merge"
   ]
  },
  {
   "cell_type": "code",
   "execution_count": 34,
   "id": "d67a3974",
   "metadata": {},
   "outputs": [
    {
     "data": {
      "text/plain": [
       "both          32399732\n",
       "left_only            0\n",
       "right_only           0\n",
       "Name: _merge, dtype: int64"
      ]
     },
     "execution_count": 34,
     "metadata": {},
     "output_type": "execute_result"
    }
   ],
   "source": [
    "# checking the merge flag:\n",
    "orders_products_all_merge['_merge'].value_counts()"
   ]
  },
  {
   "cell_type": "markdown",
   "id": "9002d148",
   "metadata": {},
   "source": [
    "##### 3.b) Checking results with the contrary merge, performing an OUTER JOIN:"
   ]
  },
  {
   "cell_type": "code",
   "execution_count": 35,
   "id": "2916fadc",
   "metadata": {},
   "outputs": [],
   "source": [
    "#merging on: product_id, OUTER JOIN\n",
    "orders_products_all_merge_outer = orders_products_merged.merge(cust, on = 'user_id', how = 'outer')"
   ]
  },
  {
   "cell_type": "code",
   "execution_count": 36,
   "id": "7431aecc",
   "metadata": {},
   "outputs": [
    {
     "data": {
      "text/plain": [
       "both          32399732\n",
       "left_only            0\n",
       "right_only           0\n",
       "Name: _merge, dtype: int64"
      ]
     },
     "execution_count": 36,
     "metadata": {},
     "output_type": "execute_result"
    }
   ],
   "source": [
    "# checking the merge flag:\n",
    "orders_products_all_merge_outer['_merge'].value_counts()"
   ]
  },
  {
   "cell_type": "markdown",
   "id": "c3e4200d",
   "metadata": {},
   "source": [
    "##### No unmerged rows here. No further investigations required.¶"
   ]
  },
  {
   "cell_type": "markdown",
   "id": "fa8c2a1d",
   "metadata": {},
   "source": [
    "### 4) check: looking for duplicates after merging"
   ]
  },
  {
   "cell_type": "code",
   "execution_count": 41,
   "id": "40db6d3f",
   "metadata": {},
   "outputs": [
    {
     "data": {
      "text/html": [
       "<div>\n",
       "<style scoped>\n",
       "    .dataframe tbody tr th:only-of-type {\n",
       "        vertical-align: middle;\n",
       "    }\n",
       "\n",
       "    .dataframe tbody tr th {\n",
       "        vertical-align: top;\n",
       "    }\n",
       "\n",
       "    .dataframe thead th {\n",
       "        text-align: right;\n",
       "    }\n",
       "</style>\n",
       "<table border=\"1\" class=\"dataframe\">\n",
       "  <thead>\n",
       "    <tr style=\"text-align: right;\">\n",
       "      <th></th>\n",
       "      <th>order_id</th>\n",
       "      <th>user_id</th>\n",
       "      <th>order_number</th>\n",
       "      <th>order_day_of_week</th>\n",
       "      <th>order_hour_of_day</th>\n",
       "      <th>days_since_last_order</th>\n",
       "      <th>product_id</th>\n",
       "      <th>add_to_cart_order</th>\n",
       "      <th>reordered</th>\n",
       "      <th>product_name</th>\n",
       "      <th>aisle_id</th>\n",
       "      <th>department_id</th>\n",
       "      <th>prices</th>\n",
       "      <th>Gender</th>\n",
       "      <th>STATE</th>\n",
       "      <th>Age</th>\n",
       "      <th>date_joined</th>\n",
       "      <th>n_dependants</th>\n",
       "      <th>fam_status</th>\n",
       "      <th>income</th>\n",
       "    </tr>\n",
       "  </thead>\n",
       "  <tbody>\n",
       "  </tbody>\n",
       "</table>\n",
       "</div>"
      ],
      "text/plain": [
       "Empty DataFrame\n",
       "Columns: [order_id, user_id, order_number, order_day_of_week, order_hour_of_day, days_since_last_order, product_id, add_to_cart_order, reordered, product_name, aisle_id, department_id, prices, Gender, STATE, Age, date_joined, n_dependants, fam_status, income]\n",
       "Index: []"
      ]
     },
     "execution_count": 41,
     "metadata": {},
     "output_type": "execute_result"
    }
   ],
   "source": [
    "# looking for duplicates:\n",
    "df_dups = orders_products_all[orders_products_all.duplicated()]\n",
    "df_dups"
   ]
  },
  {
   "cell_type": "markdown",
   "id": "c514344b",
   "metadata": {},
   "source": [
    "##### No duplicates."
   ]
  },
  {
   "cell_type": "markdown",
   "id": "353c38f9",
   "metadata": {},
   "source": [
    "### 5) drop the '_merge' column >>> FINAL dataframe: orders_products_all.pkl"
   ]
  },
  {
   "cell_type": "code",
   "execution_count": 37,
   "id": "9e374e0b",
   "metadata": {},
   "outputs": [],
   "source": [
    "# dropping the automatically generated merge-column. We don't need it in the final dataframe.\n",
    "orders_products_all = orders_products_all_merge.drop('_merge', axis=1)"
   ]
  },
  {
   "cell_type": "code",
   "execution_count": 38,
   "id": "95f34e94",
   "metadata": {
    "scrolled": true
   },
   "outputs": [
    {
     "data": {
      "text/html": [
       "<div>\n",
       "<style scoped>\n",
       "    .dataframe tbody tr th:only-of-type {\n",
       "        vertical-align: middle;\n",
       "    }\n",
       "\n",
       "    .dataframe tbody tr th {\n",
       "        vertical-align: top;\n",
       "    }\n",
       "\n",
       "    .dataframe thead th {\n",
       "        text-align: right;\n",
       "    }\n",
       "</style>\n",
       "<table border=\"1\" class=\"dataframe\">\n",
       "  <thead>\n",
       "    <tr style=\"text-align: right;\">\n",
       "      <th></th>\n",
       "      <th>order_id</th>\n",
       "      <th>user_id</th>\n",
       "      <th>order_number</th>\n",
       "      <th>order_day_of_week</th>\n",
       "      <th>order_hour_of_day</th>\n",
       "      <th>days_since_last_order</th>\n",
       "      <th>product_id</th>\n",
       "      <th>add_to_cart_order</th>\n",
       "      <th>reordered</th>\n",
       "      <th>product_name</th>\n",
       "      <th>aisle_id</th>\n",
       "      <th>department_id</th>\n",
       "      <th>prices</th>\n",
       "      <th>Gender</th>\n",
       "      <th>STATE</th>\n",
       "      <th>Age</th>\n",
       "      <th>date_joined</th>\n",
       "      <th>n_dependants</th>\n",
       "      <th>fam_status</th>\n",
       "      <th>income</th>\n",
       "    </tr>\n",
       "  </thead>\n",
       "  <tbody>\n",
       "    <tr>\n",
       "      <th>0</th>\n",
       "      <td>2539329</td>\n",
       "      <td>1</td>\n",
       "      <td>1</td>\n",
       "      <td>2</td>\n",
       "      <td>8</td>\n",
       "      <td>NaN</td>\n",
       "      <td>196</td>\n",
       "      <td>1</td>\n",
       "      <td>0</td>\n",
       "      <td>Soda</td>\n",
       "      <td>77</td>\n",
       "      <td>7</td>\n",
       "      <td>9.0</td>\n",
       "      <td>Female</td>\n",
       "      <td>Alabama</td>\n",
       "      <td>31</td>\n",
       "      <td>2019-02-17</td>\n",
       "      <td>3</td>\n",
       "      <td>married</td>\n",
       "      <td>40423</td>\n",
       "    </tr>\n",
       "    <tr>\n",
       "      <th>1</th>\n",
       "      <td>2398795</td>\n",
       "      <td>1</td>\n",
       "      <td>2</td>\n",
       "      <td>3</td>\n",
       "      <td>7</td>\n",
       "      <td>15.0</td>\n",
       "      <td>196</td>\n",
       "      <td>1</td>\n",
       "      <td>1</td>\n",
       "      <td>Soda</td>\n",
       "      <td>77</td>\n",
       "      <td>7</td>\n",
       "      <td>9.0</td>\n",
       "      <td>Female</td>\n",
       "      <td>Alabama</td>\n",
       "      <td>31</td>\n",
       "      <td>2019-02-17</td>\n",
       "      <td>3</td>\n",
       "      <td>married</td>\n",
       "      <td>40423</td>\n",
       "    </tr>\n",
       "    <tr>\n",
       "      <th>2</th>\n",
       "      <td>473747</td>\n",
       "      <td>1</td>\n",
       "      <td>3</td>\n",
       "      <td>3</td>\n",
       "      <td>12</td>\n",
       "      <td>21.0</td>\n",
       "      <td>196</td>\n",
       "      <td>1</td>\n",
       "      <td>1</td>\n",
       "      <td>Soda</td>\n",
       "      <td>77</td>\n",
       "      <td>7</td>\n",
       "      <td>9.0</td>\n",
       "      <td>Female</td>\n",
       "      <td>Alabama</td>\n",
       "      <td>31</td>\n",
       "      <td>2019-02-17</td>\n",
       "      <td>3</td>\n",
       "      <td>married</td>\n",
       "      <td>40423</td>\n",
       "    </tr>\n",
       "    <tr>\n",
       "      <th>3</th>\n",
       "      <td>2254736</td>\n",
       "      <td>1</td>\n",
       "      <td>4</td>\n",
       "      <td>4</td>\n",
       "      <td>7</td>\n",
       "      <td>29.0</td>\n",
       "      <td>196</td>\n",
       "      <td>1</td>\n",
       "      <td>1</td>\n",
       "      <td>Soda</td>\n",
       "      <td>77</td>\n",
       "      <td>7</td>\n",
       "      <td>9.0</td>\n",
       "      <td>Female</td>\n",
       "      <td>Alabama</td>\n",
       "      <td>31</td>\n",
       "      <td>2019-02-17</td>\n",
       "      <td>3</td>\n",
       "      <td>married</td>\n",
       "      <td>40423</td>\n",
       "    </tr>\n",
       "    <tr>\n",
       "      <th>4</th>\n",
       "      <td>431534</td>\n",
       "      <td>1</td>\n",
       "      <td>5</td>\n",
       "      <td>4</td>\n",
       "      <td>15</td>\n",
       "      <td>28.0</td>\n",
       "      <td>196</td>\n",
       "      <td>1</td>\n",
       "      <td>1</td>\n",
       "      <td>Soda</td>\n",
       "      <td>77</td>\n",
       "      <td>7</td>\n",
       "      <td>9.0</td>\n",
       "      <td>Female</td>\n",
       "      <td>Alabama</td>\n",
       "      <td>31</td>\n",
       "      <td>2019-02-17</td>\n",
       "      <td>3</td>\n",
       "      <td>married</td>\n",
       "      <td>40423</td>\n",
       "    </tr>\n",
       "    <tr>\n",
       "      <th>...</th>\n",
       "      <td>...</td>\n",
       "      <td>...</td>\n",
       "      <td>...</td>\n",
       "      <td>...</td>\n",
       "      <td>...</td>\n",
       "      <td>...</td>\n",
       "      <td>...</td>\n",
       "      <td>...</td>\n",
       "      <td>...</td>\n",
       "      <td>...</td>\n",
       "      <td>...</td>\n",
       "      <td>...</td>\n",
       "      <td>...</td>\n",
       "      <td>...</td>\n",
       "      <td>...</td>\n",
       "      <td>...</td>\n",
       "      <td>...</td>\n",
       "      <td>...</td>\n",
       "      <td>...</td>\n",
       "      <td>...</td>\n",
       "    </tr>\n",
       "    <tr>\n",
       "      <th>32399727</th>\n",
       "      <td>156685</td>\n",
       "      <td>106143</td>\n",
       "      <td>26</td>\n",
       "      <td>4</td>\n",
       "      <td>23</td>\n",
       "      <td>5.0</td>\n",
       "      <td>19675</td>\n",
       "      <td>1</td>\n",
       "      <td>1</td>\n",
       "      <td>Organic Raspberry Black Tea</td>\n",
       "      <td>94</td>\n",
       "      <td>7</td>\n",
       "      <td>10.7</td>\n",
       "      <td>Male</td>\n",
       "      <td>Hawaii</td>\n",
       "      <td>25</td>\n",
       "      <td>2017-05-26</td>\n",
       "      <td>0</td>\n",
       "      <td>single</td>\n",
       "      <td>53755</td>\n",
       "    </tr>\n",
       "    <tr>\n",
       "      <th>32399728</th>\n",
       "      <td>484769</td>\n",
       "      <td>66343</td>\n",
       "      <td>1</td>\n",
       "      <td>6</td>\n",
       "      <td>11</td>\n",
       "      <td>NaN</td>\n",
       "      <td>47210</td>\n",
       "      <td>1</td>\n",
       "      <td>0</td>\n",
       "      <td>Fresh Farmed Tilapia Fillet</td>\n",
       "      <td>15</td>\n",
       "      <td>12</td>\n",
       "      <td>8.1</td>\n",
       "      <td>Female</td>\n",
       "      <td>Tennessee</td>\n",
       "      <td>22</td>\n",
       "      <td>2017-09-12</td>\n",
       "      <td>3</td>\n",
       "      <td>married</td>\n",
       "      <td>46151</td>\n",
       "    </tr>\n",
       "    <tr>\n",
       "      <th>32399729</th>\n",
       "      <td>1561557</td>\n",
       "      <td>66343</td>\n",
       "      <td>2</td>\n",
       "      <td>1</td>\n",
       "      <td>11</td>\n",
       "      <td>30.0</td>\n",
       "      <td>47210</td>\n",
       "      <td>1</td>\n",
       "      <td>1</td>\n",
       "      <td>Fresh Farmed Tilapia Fillet</td>\n",
       "      <td>15</td>\n",
       "      <td>12</td>\n",
       "      <td>8.1</td>\n",
       "      <td>Female</td>\n",
       "      <td>Tennessee</td>\n",
       "      <td>22</td>\n",
       "      <td>2017-09-12</td>\n",
       "      <td>3</td>\n",
       "      <td>married</td>\n",
       "      <td>46151</td>\n",
       "    </tr>\n",
       "    <tr>\n",
       "      <th>32399730</th>\n",
       "      <td>276317</td>\n",
       "      <td>66343</td>\n",
       "      <td>3</td>\n",
       "      <td>6</td>\n",
       "      <td>15</td>\n",
       "      <td>19.0</td>\n",
       "      <td>47210</td>\n",
       "      <td>1</td>\n",
       "      <td>1</td>\n",
       "      <td>Fresh Farmed Tilapia Fillet</td>\n",
       "      <td>15</td>\n",
       "      <td>12</td>\n",
       "      <td>8.1</td>\n",
       "      <td>Female</td>\n",
       "      <td>Tennessee</td>\n",
       "      <td>22</td>\n",
       "      <td>2017-09-12</td>\n",
       "      <td>3</td>\n",
       "      <td>married</td>\n",
       "      <td>46151</td>\n",
       "    </tr>\n",
       "    <tr>\n",
       "      <th>32399731</th>\n",
       "      <td>2922475</td>\n",
       "      <td>66343</td>\n",
       "      <td>4</td>\n",
       "      <td>1</td>\n",
       "      <td>12</td>\n",
       "      <td>30.0</td>\n",
       "      <td>47210</td>\n",
       "      <td>1</td>\n",
       "      <td>1</td>\n",
       "      <td>Fresh Farmed Tilapia Fillet</td>\n",
       "      <td>15</td>\n",
       "      <td>12</td>\n",
       "      <td>8.1</td>\n",
       "      <td>Female</td>\n",
       "      <td>Tennessee</td>\n",
       "      <td>22</td>\n",
       "      <td>2017-09-12</td>\n",
       "      <td>3</td>\n",
       "      <td>married</td>\n",
       "      <td>46151</td>\n",
       "    </tr>\n",
       "  </tbody>\n",
       "</table>\n",
       "<p>32399732 rows × 20 columns</p>\n",
       "</div>"
      ],
      "text/plain": [
       "         order_id user_id  order_number  order_day_of_week  order_hour_of_day  \\\n",
       "0         2539329       1             1                  2                  8   \n",
       "1         2398795       1             2                  3                  7   \n",
       "2          473747       1             3                  3                 12   \n",
       "3         2254736       1             4                  4                  7   \n",
       "4          431534       1             5                  4                 15   \n",
       "...           ...     ...           ...                ...                ...   \n",
       "32399727   156685  106143            26                  4                 23   \n",
       "32399728   484769   66343             1                  6                 11   \n",
       "32399729  1561557   66343             2                  1                 11   \n",
       "32399730   276317   66343             3                  6                 15   \n",
       "32399731  2922475   66343             4                  1                 12   \n",
       "\n",
       "          days_since_last_order product_id  add_to_cart_order  reordered  \\\n",
       "0                           NaN        196                  1          0   \n",
       "1                          15.0        196                  1          1   \n",
       "2                          21.0        196                  1          1   \n",
       "3                          29.0        196                  1          1   \n",
       "4                          28.0        196                  1          1   \n",
       "...                         ...        ...                ...        ...   \n",
       "32399727                    5.0      19675                  1          1   \n",
       "32399728                    NaN      47210                  1          0   \n",
       "32399729                   30.0      47210                  1          1   \n",
       "32399730                   19.0      47210                  1          1   \n",
       "32399731                   30.0      47210                  1          1   \n",
       "\n",
       "                         product_name aisle_id department_id  prices  Gender  \\\n",
       "0                                Soda       77             7     9.0  Female   \n",
       "1                                Soda       77             7     9.0  Female   \n",
       "2                                Soda       77             7     9.0  Female   \n",
       "3                                Soda       77             7     9.0  Female   \n",
       "4                                Soda       77             7     9.0  Female   \n",
       "...                               ...      ...           ...     ...     ...   \n",
       "32399727  Organic Raspberry Black Tea       94             7    10.7    Male   \n",
       "32399728  Fresh Farmed Tilapia Fillet       15            12     8.1  Female   \n",
       "32399729  Fresh Farmed Tilapia Fillet       15            12     8.1  Female   \n",
       "32399730  Fresh Farmed Tilapia Fillet       15            12     8.1  Female   \n",
       "32399731  Fresh Farmed Tilapia Fillet       15            12     8.1  Female   \n",
       "\n",
       "              STATE  Age date_joined  n_dependants fam_status  income  \n",
       "0           Alabama   31  2019-02-17             3    married   40423  \n",
       "1           Alabama   31  2019-02-17             3    married   40423  \n",
       "2           Alabama   31  2019-02-17             3    married   40423  \n",
       "3           Alabama   31  2019-02-17             3    married   40423  \n",
       "4           Alabama   31  2019-02-17             3    married   40423  \n",
       "...             ...  ...         ...           ...        ...     ...  \n",
       "32399727     Hawaii   25  2017-05-26             0     single   53755  \n",
       "32399728  Tennessee   22  2017-09-12             3    married   46151  \n",
       "32399729  Tennessee   22  2017-09-12             3    married   46151  \n",
       "32399730  Tennessee   22  2017-09-12             3    married   46151  \n",
       "32399731  Tennessee   22  2017-09-12             3    married   46151  \n",
       "\n",
       "[32399732 rows x 20 columns]"
      ]
     },
     "execution_count": 38,
     "metadata": {},
     "output_type": "execute_result"
    }
   ],
   "source": [
    "orders_products_all"
   ]
  },
  {
   "cell_type": "code",
   "execution_count": 39,
   "id": "88932c7a",
   "metadata": {},
   "outputs": [
    {
     "data": {
      "text/plain": [
       "(32399732, 20)"
      ]
     },
     "execution_count": 39,
     "metadata": {},
     "output_type": "execute_result"
    }
   ],
   "source": [
    "orders_products_all.shape"
   ]
  },
  {
   "cell_type": "markdown",
   "id": "6a20969a",
   "metadata": {},
   "source": [
    "## exporting the final dataframe orders_products_all.pkl"
   ]
  },
  {
   "cell_type": "code",
   "execution_count": 40,
   "id": "98d5b897",
   "metadata": {},
   "outputs": [],
   "source": [
    "# exporting the merged dataframe as a pkl:\n",
    "orders_products_all.to_pickle(os.path.join(path, '02 Data','Prepared Data', 'orders_products_all.pkl'))"
   ]
  }
 ],
 "metadata": {
  "kernelspec": {
   "display_name": "Python 3 (ipykernel)",
   "language": "python",
   "name": "python3"
  },
  "language_info": {
   "codemirror_mode": {
    "name": "ipython",
    "version": 3
   },
   "file_extension": ".py",
   "mimetype": "text/x-python",
   "name": "python",
   "nbconvert_exporter": "python",
   "pygments_lexer": "ipython3",
   "version": "3.10.9"
  }
 },
 "nbformat": 4,
 "nbformat_minor": 5
}
