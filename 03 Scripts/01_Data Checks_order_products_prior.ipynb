{
 "cells": [
  {
   "cell_type": "markdown",
   "id": "e8b1174f",
   "metadata": {},
   "source": [
    "# Data Checks on: order_products_prior.csv"
   ]
  },
  {
   "cell_type": "markdown",
   "id": "cb0969a0",
   "metadata": {},
   "source": [
    "#### Contents. \n",
    "- Missing Data Check\n",
    "- Duplicate Check\n",
    "- Mixed-type Data Check\n",
    "- Other inconsistency, if needed, check\n",
    "- Summary if changes to the original dataframe"
   ]
  },
  {
   "cell_type": "markdown",
   "id": "c6bc303b",
   "metadata": {},
   "source": [
    "## Importing libraries and data"
   ]
  },
  {
   "cell_type": "code",
   "execution_count": 1,
   "id": "8422da6f",
   "metadata": {},
   "outputs": [],
   "source": [
    "# Import libraries\n",
    "import pandas as pd\n",
    "import numpy as np\n",
    "import os"
   ]
  },
  {
   "cell_type": "code",
   "execution_count": 2,
   "id": "69c46b8b",
   "metadata": {},
   "outputs": [],
   "source": [
    "#importing dataset:\n",
    "path = r'C:\\Users\\chris\\Documents\\Instacart Basket Analysis'\n",
    "df_prior = pd.read_csv(os.path.join(path,'02 Data', 'Original Data', 'order_products__prior.csv'))"
   ]
  },
  {
   "cell_type": "markdown",
   "id": "2878cfe3",
   "metadata": {},
   "source": [
    "## Viewing the dataframe"
   ]
  },
  {
   "cell_type": "code",
   "execution_count": 3,
   "id": "4193340b",
   "metadata": {},
   "outputs": [
    {
     "data": {
      "text/plain": [
       "(32434489, 4)"
      ]
     },
     "execution_count": 3,
     "metadata": {},
     "output_type": "execute_result"
    }
   ],
   "source": [
    "# size:\n",
    "df_prior.shape"
   ]
  },
  {
   "cell_type": "code",
   "execution_count": 4,
   "id": "f85b89fc",
   "metadata": {},
   "outputs": [
    {
     "data": {
      "text/plain": [
       "Index(['order_id', 'product_id', 'add_to_cart_order', 'reordered'], dtype='object')"
      ]
     },
     "execution_count": 4,
     "metadata": {},
     "output_type": "execute_result"
    }
   ],
   "source": [
    "# columns:\n",
    "df_prior.columns"
   ]
  },
  {
   "cell_type": "code",
   "execution_count": 5,
   "id": "178c2ab0",
   "metadata": {},
   "outputs": [
    {
     "data": {
      "text/html": [
       "<div>\n",
       "<style scoped>\n",
       "    .dataframe tbody tr th:only-of-type {\n",
       "        vertical-align: middle;\n",
       "    }\n",
       "\n",
       "    .dataframe tbody tr th {\n",
       "        vertical-align: top;\n",
       "    }\n",
       "\n",
       "    .dataframe thead th {\n",
       "        text-align: right;\n",
       "    }\n",
       "</style>\n",
       "<table border=\"1\" class=\"dataframe\">\n",
       "  <thead>\n",
       "    <tr style=\"text-align: right;\">\n",
       "      <th></th>\n",
       "      <th>order_id</th>\n",
       "      <th>product_id</th>\n",
       "      <th>add_to_cart_order</th>\n",
       "      <th>reordered</th>\n",
       "    </tr>\n",
       "  </thead>\n",
       "  <tbody>\n",
       "    <tr>\n",
       "      <th>0</th>\n",
       "      <td>2</td>\n",
       "      <td>33120</td>\n",
       "      <td>1</td>\n",
       "      <td>1</td>\n",
       "    </tr>\n",
       "    <tr>\n",
       "      <th>1</th>\n",
       "      <td>2</td>\n",
       "      <td>28985</td>\n",
       "      <td>2</td>\n",
       "      <td>1</td>\n",
       "    </tr>\n",
       "    <tr>\n",
       "      <th>2</th>\n",
       "      <td>2</td>\n",
       "      <td>9327</td>\n",
       "      <td>3</td>\n",
       "      <td>0</td>\n",
       "    </tr>\n",
       "    <tr>\n",
       "      <th>3</th>\n",
       "      <td>2</td>\n",
       "      <td>45918</td>\n",
       "      <td>4</td>\n",
       "      <td>1</td>\n",
       "    </tr>\n",
       "    <tr>\n",
       "      <th>4</th>\n",
       "      <td>2</td>\n",
       "      <td>30035</td>\n",
       "      <td>5</td>\n",
       "      <td>0</td>\n",
       "    </tr>\n",
       "    <tr>\n",
       "      <th>...</th>\n",
       "      <td>...</td>\n",
       "      <td>...</td>\n",
       "      <td>...</td>\n",
       "      <td>...</td>\n",
       "    </tr>\n",
       "    <tr>\n",
       "      <th>32434484</th>\n",
       "      <td>3421083</td>\n",
       "      <td>39678</td>\n",
       "      <td>6</td>\n",
       "      <td>1</td>\n",
       "    </tr>\n",
       "    <tr>\n",
       "      <th>32434485</th>\n",
       "      <td>3421083</td>\n",
       "      <td>11352</td>\n",
       "      <td>7</td>\n",
       "      <td>0</td>\n",
       "    </tr>\n",
       "    <tr>\n",
       "      <th>32434486</th>\n",
       "      <td>3421083</td>\n",
       "      <td>4600</td>\n",
       "      <td>8</td>\n",
       "      <td>0</td>\n",
       "    </tr>\n",
       "    <tr>\n",
       "      <th>32434487</th>\n",
       "      <td>3421083</td>\n",
       "      <td>24852</td>\n",
       "      <td>9</td>\n",
       "      <td>1</td>\n",
       "    </tr>\n",
       "    <tr>\n",
       "      <th>32434488</th>\n",
       "      <td>3421083</td>\n",
       "      <td>5020</td>\n",
       "      <td>10</td>\n",
       "      <td>1</td>\n",
       "    </tr>\n",
       "  </tbody>\n",
       "</table>\n",
       "<p>32434489 rows × 4 columns</p>\n",
       "</div>"
      ],
      "text/plain": [
       "          order_id  product_id  add_to_cart_order  reordered\n",
       "0                2       33120                  1          1\n",
       "1                2       28985                  2          1\n",
       "2                2        9327                  3          0\n",
       "3                2       45918                  4          1\n",
       "4                2       30035                  5          0\n",
       "...            ...         ...                ...        ...\n",
       "32434484   3421083       39678                  6          1\n",
       "32434485   3421083       11352                  7          0\n",
       "32434486   3421083        4600                  8          0\n",
       "32434487   3421083       24852                  9          1\n",
       "32434488   3421083        5020                 10          1\n",
       "\n",
       "[32434489 rows x 4 columns]"
      ]
     },
     "execution_count": 5,
     "metadata": {},
     "output_type": "execute_result"
    }
   ],
   "source": [
    "# looks:\n",
    "df_prior"
   ]
  },
  {
   "cell_type": "code",
   "execution_count": 6,
   "id": "c1cfd5dd",
   "metadata": {},
   "outputs": [
    {
     "data": {
      "text/plain": [
       "order_id             int64\n",
       "product_id           int64\n",
       "add_to_cart_order    int64\n",
       "reordered            int64\n",
       "dtype: object"
      ]
     },
     "execution_count": 6,
     "metadata": {},
     "output_type": "execute_result"
    }
   ],
   "source": [
    "# data types:\n",
    "df_prior.dtypes"
   ]
  },
  {
   "cell_type": "code",
   "execution_count": 7,
   "id": "9f5756bc",
   "metadata": {},
   "outputs": [
    {
     "data": {
      "text/html": [
       "<div>\n",
       "<style scoped>\n",
       "    .dataframe tbody tr th:only-of-type {\n",
       "        vertical-align: middle;\n",
       "    }\n",
       "\n",
       "    .dataframe tbody tr th {\n",
       "        vertical-align: top;\n",
       "    }\n",
       "\n",
       "    .dataframe thead th {\n",
       "        text-align: right;\n",
       "    }\n",
       "</style>\n",
       "<table border=\"1\" class=\"dataframe\">\n",
       "  <thead>\n",
       "    <tr style=\"text-align: right;\">\n",
       "      <th></th>\n",
       "      <th>order_id</th>\n",
       "      <th>product_id</th>\n",
       "      <th>add_to_cart_order</th>\n",
       "      <th>reordered</th>\n",
       "    </tr>\n",
       "  </thead>\n",
       "  <tbody>\n",
       "    <tr>\n",
       "      <th>count</th>\n",
       "      <td>32434489.0</td>\n",
       "      <td>32434489.0</td>\n",
       "      <td>32434489.0</td>\n",
       "      <td>32434489.0</td>\n",
       "    </tr>\n",
       "    <tr>\n",
       "      <th>mean</th>\n",
       "      <td>1710748.5</td>\n",
       "      <td>25576.3</td>\n",
       "      <td>8.4</td>\n",
       "      <td>0.6</td>\n",
       "    </tr>\n",
       "    <tr>\n",
       "      <th>std</th>\n",
       "      <td>987300.7</td>\n",
       "      <td>14096.7</td>\n",
       "      <td>7.1</td>\n",
       "      <td>0.5</td>\n",
       "    </tr>\n",
       "    <tr>\n",
       "      <th>min</th>\n",
       "      <td>2.0</td>\n",
       "      <td>1.0</td>\n",
       "      <td>1.0</td>\n",
       "      <td>0.0</td>\n",
       "    </tr>\n",
       "    <tr>\n",
       "      <th>25%</th>\n",
       "      <td>855943.0</td>\n",
       "      <td>13530.0</td>\n",
       "      <td>3.0</td>\n",
       "      <td>0.0</td>\n",
       "    </tr>\n",
       "    <tr>\n",
       "      <th>50%</th>\n",
       "      <td>1711048.0</td>\n",
       "      <td>25256.0</td>\n",
       "      <td>6.0</td>\n",
       "      <td>1.0</td>\n",
       "    </tr>\n",
       "    <tr>\n",
       "      <th>75%</th>\n",
       "      <td>2565514.0</td>\n",
       "      <td>37935.0</td>\n",
       "      <td>11.0</td>\n",
       "      <td>1.0</td>\n",
       "    </tr>\n",
       "    <tr>\n",
       "      <th>max</th>\n",
       "      <td>3421083.0</td>\n",
       "      <td>49688.0</td>\n",
       "      <td>145.0</td>\n",
       "      <td>1.0</td>\n",
       "    </tr>\n",
       "  </tbody>\n",
       "</table>\n",
       "</div>"
      ],
      "text/plain": [
       "         order_id  product_id  add_to_cart_order   reordered\n",
       "count  32434489.0  32434489.0         32434489.0  32434489.0\n",
       "mean    1710748.5     25576.3                8.4         0.6\n",
       "std      987300.7     14096.7                7.1         0.5\n",
       "min           2.0         1.0                1.0         0.0\n",
       "25%      855943.0     13530.0                3.0         0.0\n",
       "50%     1711048.0     25256.0                6.0         1.0\n",
       "75%     2565514.0     37935.0               11.0         1.0\n",
       "max     3421083.0     49688.0              145.0         1.0"
      ]
     },
     "execution_count": 7,
     "metadata": {},
     "output_type": "execute_result"
    }
   ],
   "source": [
    "# basic stats:\n",
    "df_prior.describe().round(1)"
   ]
  },
  {
   "cell_type": "markdown",
   "id": "9da2b5e7",
   "metadata": {},
   "source": [
    "### Missing Data Check"
   ]
  },
  {
   "cell_type": "code",
   "execution_count": 8,
   "id": "9c45c1a8",
   "metadata": {},
   "outputs": [
    {
     "data": {
      "text/plain": [
       "order_id             0\n",
       "product_id           0\n",
       "add_to_cart_order    0\n",
       "reordered            0\n",
       "dtype: int64"
      ]
     },
     "execution_count": 8,
     "metadata": {},
     "output_type": "execute_result"
    }
   ],
   "source": [
    "# checking for any missing values:\n",
    "df_prior.isnull().sum()"
   ]
  },
  {
   "cell_type": "markdown",
   "id": "440edef8",
   "metadata": {},
   "source": [
    "##### No missing data."
   ]
  },
  {
   "cell_type": "markdown",
   "id": "0d377412",
   "metadata": {},
   "source": [
    "### Duplicated Data Check"
   ]
  },
  {
   "cell_type": "code",
   "execution_count": 9,
   "id": "dddf9e79",
   "metadata": {},
   "outputs": [],
   "source": [
    "# checking for mixed-typed data:\n",
    "for col in df_prior.columns.tolist():\n",
    "  weird = (df_prior[[col]].applymap(type) != df_prior[[col]].iloc[0].apply(type)).any(axis = 1)\n",
    "  if len (df_prior[weird]) > 0:\n",
    "    print (col)"
   ]
  },
  {
   "cell_type": "markdown",
   "id": "c242e2a0",
   "metadata": {},
   "source": [
    "##### No duplicates."
   ]
  },
  {
   "cell_type": "markdown",
   "id": "89c535f2",
   "metadata": {},
   "source": [
    "## Summary: What needs to be addressed:"
   ]
  },
  {
   "cell_type": "markdown",
   "id": "cc22ae36",
   "metadata": {},
   "source": [
    "##### changing id's to string data as with the other dataframes"
   ]
  },
  {
   "cell_type": "markdown",
   "id": "6c283019",
   "metadata": {},
   "source": [
    "## Changing and Exporting the dataframe >> prior_wrangled.pkl"
   ]
  },
  {
   "cell_type": "code",
   "execution_count": 10,
   "id": "10e36f23",
   "metadata": {},
   "outputs": [],
   "source": [
    "# changing ids into string variables:\n",
    "df_prior[['product_id', 'order_id']] = df_prior[['product_id', 'order_id']].astype(str)"
   ]
  },
  {
   "cell_type": "code",
   "execution_count": 11,
   "id": "e2185e9f",
   "metadata": {},
   "outputs": [],
   "source": [
    "# exporting the dataframe:\n",
    "df_prior.to_pickle(os.path.join(path, '02 Data','Prepared Data', 'prior_wrangled.pkl'))"
   ]
  }
 ],
 "metadata": {
  "kernelspec": {
   "display_name": "Python 3 (ipykernel)",
   "language": "python",
   "name": "python3"
  },
  "language_info": {
   "codemirror_mode": {
    "name": "ipython",
    "version": 3
   },
   "file_extension": ".py",
   "mimetype": "text/x-python",
   "name": "python",
   "nbconvert_exporter": "python",
   "pygments_lexer": "ipython3",
   "version": "3.10.9"
  }
 },
 "nbformat": 4,
 "nbformat_minor": 5
}
